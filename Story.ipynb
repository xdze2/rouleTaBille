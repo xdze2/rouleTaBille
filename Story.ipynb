{
 "metadata": {
  "name": "",
  "signature": "sha256:7ade775ce5c478cecf8e6e1a24142c01846973fcaeaba0965ffa09b6be9bc82a"
 },
 "nbformat": 3,
 "nbformat_minor": 0,
 "worksheets": [
  {
   "cells": [
    {
     "cell_type": "markdown",
     "metadata": {},
     "source": [
      "#Roule ta bille"
     ]
    },
    {
     "cell_type": "markdown",
     "metadata": {},
     "source": [
      "L'id\u00e9e est de faire un circuit de bille p\u00e9riodique, sans m\u00e9canisme pour remonter la bille autre que la force centrifuge, donn\u00e9e par la rotation de l'ensemble du circuit. L'\u00e9nergie vient de la rotation constante de la structure, impos\u00e9e par un moteur. \n",
      "\n",
      "Il n'y a pas de balais, ou de pi\u00e8ce non tournante, qui vient bloquer la bille dans son mouvement, pour la pousser le long d'une rampe."
     ]
    },
    {
     "cell_type": "markdown",
     "metadata": {},
     "source": [
      "##\u00a0Mont\u00e9e\n",
      "\n",
      "![schema 1](./schema_montee.jpg)\n",
      "\n",
      "Pour la mont\u00e9e la bille est dans une gorge radiale. Les forces en pr\u00e9sence sont donc la gravit\u00e9, la r\u00e9action du support et la force centrifuge (en se pla\u00e7ant dans le r\u00e9f\u00e9rentiel tournant). L'acc\u00e9l\u00e9ration est n\u00e9glig\u00e9e pour le moment. Si $\\theta$ est l'angle du support avec l'horizontal, $g$ l'acc\u00e9l\u00e9ration de la gravit\u00e9, $\\omega$ la vitesse de rotation (rad/s), $r$ le rayon o\u00f9 se trouve la bille, la somme des forces projet\u00e9e sur l'horizontale donne: (la masse se simplifie)"
     ]
    },
    {
     "cell_type": "markdown",
     "metadata": {},
     "source": [
      "$g.\\tan(\\theta) = r.\\omega^2$"
     ]
    },
    {
     "cell_type": "markdown",
     "metadata": {},
     "source": [
      "donc la pente permettant l'\u00e9quilibre des forces sur la bille est pour chaque position $r$ :"
     ]
    },
    {
     "cell_type": "markdown",
     "metadata": {},
     "source": [
      "$\\theta\\left(r\\right) = \\arctan\\left( \\frac{\\omega^2}{g} r \\right)$"
     ]
    },
    {
     "cell_type": "markdown",
     "metadata": {},
     "source": [
      "Si on se limite \u00e0 un syst\u00e8me de rayon $R$, la hauteur maximale atteignable, pour une certaine vitesse de rotation $\\omega$ est (merci Wolfram):"
     ]
    },
    {
     "cell_type": "markdown",
     "metadata": {},
     "source": [
      "$$ h_{max} = \\int_0^R \\theta(r)dr = R\\,\\arctan\\left( \\frac{\\omega^2}{g} R\\right) - \\frac{g}{2\\omega^2} \\ln\\left[ 1 + \\left(\\frac{\\omega^2}{g} R\\right)^2 \\right] $$"
     ]
    },
    {
     "cell_type": "code",
     "collapsed": false,
     "input": [
      "import numpy as np\n",
      "import matplotlib.pyplot as plt\n",
      "%matplotlib inline"
     ],
     "language": "python",
     "metadata": {},
     "outputs": [],
     "prompt_number": 6
    },
    {
     "cell_type": "code",
     "collapsed": false,
     "input": [
      "g = 9.81 #\u00a0m.s-2\n",
      "h_max = lambda  R, w: R*np.arctan( w**2/g*R ) - g/2.0/w**2*np.log( 1 + (w**2/g*R)**2 ) "
     ],
     "language": "python",
     "metadata": {},
     "outputs": [],
     "prompt_number": 7
    },
    {
     "cell_type": "code",
     "collapsed": false,
     "input": [
      "w = 45*2*np.pi/60.0  #\u00a045 tour min en rad/s\n",
      "R = 10e-2 #\u00a0m\n",
      "\n",
      "print h_max( R, w  )*100, ' cm'\n",
      "\n",
      "print w"
     ],
     "language": "python",
     "metadata": {},
     "outputs": [
      {
       "output_type": "stream",
       "stream": "stdout",
       "text": [
        "1.12236196236  cm\n",
        "4.71238898038\n"
       ]
      }
     ],
     "prompt_number": 28
    },
    {
     "cell_type": "code",
     "collapsed": false,
     "input": [
      "Rmax = 10e-2\n",
      "w = 2*np.pi*2\n",
      "r_span = np.linspace(0, Rmax, 55)\n",
      "profil = np.vectorize( h_max )\n",
      "\n",
      "plt.plot( r_span*100, profil(r_span, w)*100  )\n",
      "plt.xlabel('r (cm)'); plt.ylabel('h_max (cm)'); plt.title('w=%0.2f rad/s'%w)"
     ],
     "language": "python",
     "metadata": {},
     "outputs": [
      {
       "metadata": {},
       "output_type": "pyout",
       "prompt_number": 9,
       "text": [
        "<matplotlib.text.Text at 0x7f3d8212ccd0>"
       ]
      },
      {
       "metadata": {},
       "output_type": "display_data",
       "png": "[encoded data removed]",
       "text": [
        "<matplotlib.figure.Figure at 0x7f3d82146a50>"
       ]
      }
     ],
     "prompt_number": 9
    },
    {
     "cell_type": "code",
     "collapsed": false,
     "input": [
      "w_span = np.pi*2*np.logspace(-1, 3, 45)\n",
      "h_max_w = np.vectorize( h_max, excluded=['R'] )\n",
      "\n",
      "R = 10e-2\n",
      "plt.semilogx( w_span/np.pi/2, h_max_w(R, w_span)*100  )\n",
      "plt.xlabel('w/2pi (Hz)'); plt.ylabel('h_max (cm)'); plt.title('R=%0.2f m' % R)"
     ],
     "language": "python",
     "metadata": {},
     "outputs": [
      {
       "metadata": {},
       "output_type": "pyout",
       "prompt_number": 10,
       "text": [
        "<matplotlib.text.Text at 0x7f3d81f64d50>"
       ]
      },
      {
       "metadata": {},
       "output_type": "display_data",
       "png": "[encoded data removed]",
       "text": [
        "<matplotlib.figure.Figure at 0x7f3d82146990>"
       ]
      }
     ],
     "prompt_number": 10
    },
    {
     "cell_type": "markdown",
     "metadata": {},
     "source": [
      "*Remarque:* il est plus interessant d'avoir $w>1-2\\,Hz$, mais l'effet visuel sera mois bon"
     ]
    },
    {
     "cell_type": "markdown",
     "metadata": {},
     "source": [
      "Si on compare l'\u00e9nergie potentiel acquise ($g\\,h_{max}$) avec l'\u00e9nergie cin\u00e9tique acquise aussi ($(\\omega\\,R)^2/2$):"
     ]
    },
    {
     "cell_type": "code",
     "collapsed": false,
     "input": [
      "R = 100e-2\n",
      "w = 2*np.pi*2\n",
      "\n",
      "print 'E potentiel:', g*h_max(R, w)\n",
      "print 'E cin\u00e9tique:', (w*R)**2/2.0"
     ],
     "language": "python",
     "metadata": {},
     "outputs": [
      {
       "output_type": "stream",
       "stream": "stdout",
       "text": [
        "E potentiel: 13.1063294594\n",
        "E cin\u00e9tique: 78.9568352087\n"
       ]
      }
     ],
     "prompt_number": 11
    },
    {
     "cell_type": "markdown",
     "metadata": {},
     "source": [
      "###\u00a0Descente (c.a.d. retour au centre)"
     ]
    },
    {
     "cell_type": "markdown",
     "metadata": {},
     "source": [
      "![schema 2](./schema_rampes.jpg)\n"
     ]
    },
    {
     "cell_type": "markdown",
     "metadata": {},
     "source": [
      "\n",
      "*Notation pour la trajectoire circulaire de retour*: ![schema 2](./schema_notation2.jpg)"
     ]
    },
    {
     "cell_type": "markdown",
     "metadata": {},
     "source": [
      "Un bille sur un plateau tournant plat et lisse a des trajectoires stable circulaire (cf publi & video). C.a.d. sans frottement et force ext\u00e9rieure.\n",
      "  - La vitesse de rotation sur cette trajectoire est donn\u00e9e par $w_c = 2/7 w$, pour une bille pleine (cf. moment d'inertie d'une sph\u00e8re).\n",
      "  - Le rayon de la trajectoire circulaire est $\\rho = |v_0|/w_c$, avec $v_0 = [v_{0x},\\, v_{0y}]$ le vecteur vitesse initiale (dans le ref. du labo)\n",
      "  - Le centre du cercle est en $r_c = [  x_0 - v_{0y}/w_c,\\, y_0 + v_{0x}/w_c ]$, toujours dans le ref. du labo, avec $[x_0,\\, y_0]$ la position initial de la bille. On fixe: $x_0 = R$ et $y_0=0$\n",
      "  - La condition pour que la trajectoire de la bille passe par le centre est: $\\rho = |r_c|$"
     ]
    },
    {
     "cell_type": "markdown",
     "metadata": {},
     "source": [
      "Cette derni\u00e8re relation permet d'aboutir \u00e0:\n",
      "$$ v_{0y} = \\frac{R\\,w_c}{2} $$\n",
      "\n",
      "La bille passera alors par le centre quelque soit la composante $v_{0x}$. Cette vitesse est dans le r\u00e9ferentiel du labo.\n",
      "\n",
      " - La vitesse tangentiel de la bille, \u00e0 la fin de la rampe de mont\u00e9e, sera: $v_y = w\\,R$\n",
      " - La variation de vitesse $\\Delta v$ n\u00e9cessaire pour injecter la bille sur la bonne trajectoire est donc:\n",
      " $$ \\Delta v = v_{0y} - v_y =  \\frac{R\\,w_c}{2} - w\\,R $$\n",
      " "
     ]
    },
    {
     "cell_type": "markdown",
     "metadata": {},
     "source": [
      " qui se simplifie:\n",
      " $$  \\Delta v = -\\frac{6}{7}w\\,R $$"
     ]
    },
    {
     "cell_type": "markdown",
     "metadata": {},
     "source": [
      "Cela signifie que la bille doit perdre environ 85% de sa vitesse (tangentielle) dans ref. du labo.\n",
      "\n",
      "L'\u00e9nergie pour effectuer ce changement de vitesse va \u00eatre donn\u00e9e par l'\u00e9nergie potentielle obtenue lors de la mont\u00e9e: $E_p = m\\,g\\,h_{max}$. L'\u00e9nergie cin\u00e9tique est $m\\,v^2/2$. Donc la variation de vitesse maximale est:"
     ]
    },
    {
     "cell_type": "markdown",
     "metadata": {},
     "source": [
      "$$ \\Delta v_{max} = \\sqrt{ 2\\,g\\,h_{max} } $$"
     ]
    },
    {
     "cell_type": "markdown",
     "metadata": {},
     "source": [
      "La condition pour que la bille puisse revenir au centre est : $\\Delta v_{max} > \\Delta v$ "
     ]
    },
    {
     "cell_type": "code",
     "collapsed": false,
     "input": [
      "R = 10e-2\n",
      "w = 2*np.pi*1"
     ],
     "language": "python",
     "metadata": {},
     "outputs": [],
     "prompt_number": 12
    },
    {
     "cell_type": "code",
     "collapsed": false,
     "input": [
      "print np.sqrt( 2*g*h_max(R, w))\n",
      "print 6.0/7.0*w*R"
     ],
     "language": "python",
     "metadata": {},
     "outputs": [
      {
       "output_type": "stream",
       "stream": "stdout",
       "text": [
        "0.620293575553\n",
        "0.538558740615\n"
       ]
      }
     ],
     "prompt_number": 13
    },
    {
     "cell_type": "code",
     "collapsed": false,
     "input": [
      "dv_max = lambda w: np.sqrt( 2*g*h_max(R, w))\n",
      "dv = lambda w: 6.0/7.0*w*R"
     ],
     "language": "python",
     "metadata": {},
     "outputs": [],
     "prompt_number": 14
    },
    {
     "cell_type": "code",
     "collapsed": false,
     "input": [
      "w_span = np.pi*2*np.logspace(-1, 1, 75)\n",
      "h_max_w = np.vectorize( h_max, excluded=['R'] )\n",
      "\n",
      "R = 10e-2 #\u00a0m\n",
      "\n",
      "f, (ax1, ax2, ax3) = plt.subplots( 3, sharex=True, figsize=(9,9))\n",
      "\n",
      "ax1.semilogx( w_span/np.pi/2, dv_max(w_span), label='\\Delta v max'  )\n",
      "ax1.semilogx( w_span/np.pi/2, dv(w_span) , label='\\Delta v'  )\n",
      "\n",
      "ax1.set_ylim([.0, 1.5])\n",
      "ax1.set_title('(Delta v max - Delta v)')\n",
      "#ax.xlabel('w/2pi (Hz)'); ax.ylabel('dv (m/S)'); ax.title('R=%0.2f m' % R)\n",
      "ax1 = ax1.legend(loc='upper left')\n",
      "\n",
      "ax2.semilogx( w_span/np.pi/2, (dv_max(w_span)-dv(w_span)), label='Delta v max - Delta v '  )\n",
      "\n",
      "#ax.xlabel('w/2pi (Hz)'); ax.ylabel('dv (m/S)'); ax.title('R=%0.2f m' % R)\n",
      "#ax = ax.legend(loc='upper center')\n",
      "ax2.set_ylim([.0, .08])\n",
      "ax2.set_ylabel('delta delta (m/s)'); \n",
      "\n",
      "taux = (dv_max(w_span)-dv(w_span))/dv(w_span)*100\n",
      "ax3.semilogx( w_span/np.pi/2, taux, label='Delta v max - Delta v '  )\n",
      "\n",
      "#ax.xlabel('w/2pi (Hz)'); ax.ylabel('dv (m/S)'); ax.title('R=%0.2f m' % R)\n",
      "#ax = ax.legend(loc='upper center')\n",
      "ax3.set_ylim([.0, 20])\n",
      "ax3.set_ylabel('%'); ax3.set_xlabel('w/2pi (Hz)'); \n",
      "\n",
      "f.subplots_adjust(hspace=.03)\n"
     ],
     "language": "python",
     "metadata": {},
     "outputs": [
      {
       "metadata": {},
       "output_type": "display_data",
       "png": "[encoded data removed]",
       "text": [
        "<matplotlib.figure.Figure at 0x7f3d82146910>"
       ]
      }
     ],
     "prompt_number": 15
    },
    {
     "cell_type": "markdown",
     "metadata": {},
     "source": [
      "Il y a donc une vitesse de rotation maximale au-d\u00e8la de laquelle il n'est plus possible pour la bille de revenir au centre (avec ce type de trajectoire)... l'\u00e9nergie cin\u00e9tique augmente indefiniment, alors que l'\u00e9nergie potentielle sature quand $w$ augmente pour un rayon max. $R$ constant..."
     ]
    },
    {
     "cell_type": "code",
     "collapsed": false,
     "input": [
      "dv_max = lambda w: np.sqrt( 2*g*h_max(R, w))\n"
     ],
     "language": "python",
     "metadata": {},
     "outputs": [],
     "prompt_number": 16
    },
    {
     "cell_type": "markdown",
     "metadata": {},
     "source": [
      "###\u00a0Quelle est la trajectoire de la bille dans le ref. tournant ?"
     ]
    },
    {
     "cell_type": "code",
     "collapsed": false,
     "input": [
      "def U_fixe( t, rho, w_c ):\n",
      "    theta = w_c*t\n",
      "    ux = rho*( 1 + np.cos(theta) ) \n",
      "    uy = rho*np.sin( theta )\n",
      "    \n",
      "    r = np.sqrt( ux**2 + uy**2 )\n",
      "    phi = np.arctan2( uy, ux )\n",
      "    return r, phi\n"
     ],
     "language": "python",
     "metadata": {},
     "outputs": [],
     "prompt_number": 17
    },
    {
     "cell_type": "code",
     "collapsed": false,
     "input": [
      "rho = R/2.0\n",
      "w = 2*np.pi*1\n",
      "\n",
      "w_c = 2.0/7.0*w\n",
      "\n",
      "\n",
      "time = np.linspace( 0, np.pi/w_c, 51 )\n",
      "\n",
      "Ur, Uphi = U_fixe( time, rho, w_c )\n",
      "\n",
      "Ur_prime = Ur\n",
      "Uphi_prime = Uphi + w*time\n",
      "\n",
      "Ux = Ur_prime*np.cos( Uphi_prime )\n",
      "Uy = Ur_prime*np.sin( Uphi_prime )"
     ],
     "language": "python",
     "metadata": {},
     "outputs": [],
     "prompt_number": 26
    },
    {
     "cell_type": "code",
     "collapsed": false,
     "input": [
      "plt.plot( Ux*100, Uy*100, 'x' )\n",
      "plt.axis('equal')"
     ],
     "language": "python",
     "metadata": {},
     "outputs": [
      {
       "metadata": {},
       "output_type": "pyout",
       "prompt_number": 27,
       "text": [
        "(-10.0, 10.0, -10.0, 10.0)"
       ]
      },
      {
       "metadata": {},
       "output_type": "display_data",
       "png": "[encoded data removed]",
       "text": [
        "<matplotlib.figure.Figure at 0x7f3d81e7d990>"
       ]
      }
     ],
     "prompt_number": 27
    },
    {
     "cell_type": "markdown",
     "metadata": {},
     "source": [
      "##\u00a0Questions bonus:\n",
      "* Est-ce qu'il est possible de faire plusieurs rampe succesif our gagner en hauteur ? descendre de 1/2 $h_max$ et remonter plus haut ?  \n",
      "* Version cylindre vertical avec la bille \u00e0 l'int\u00e9rieure ..."
     ]
    },
    {
     "cell_type": "code",
     "collapsed": false,
     "input": [],
     "language": "python",
     "metadata": {},
     "outputs": [],
     "prompt_number": 19
    }
   ],
   "metadata": {}
  }
 ]
}